{
  "nbformat": 4,
  "nbformat_minor": 0,
  "metadata": {
    "colab": {
      "name": "Sorts.ipynb",
      "provenance": [],
      "authorship_tag": "ABX9TyMy7fK/pNwDZMj8xprJ1xeC",
      "include_colab_link": true
    },
    "kernelspec": {
      "name": "python3",
      "display_name": "Python 3"
    }
  },
  "cells": [
    {
      "cell_type": "markdown",
      "metadata": {
        "id": "view-in-github",
        "colab_type": "text"
      },
      "source": [
        "<a href=\"https://colab.research.google.com/github/Sadia-rahman98/Algorithms/blob/master/Sorts.ipynb\" target=\"_parent\"><img src=\"https://colab.research.google.com/assets/colab-badge.svg\" alt=\"Open In Colab\"/></a>"
      ]
    },
    {
      "cell_type": "code",
      "metadata": {
        "id": "1mAKiL02Ogcm",
        "colab_type": "code",
        "colab": {
          "base_uri": "https://localhost:8080/",
          "height": 109
        },
        "outputId": "20a0d2e4-ea2f-451e-f3cd-c70d4109d91d"
      },
      "source": [
        "A=[23,4,56,32,34,9,7,20]\n",
        "\n",
        "def insertionSort(A):\n",
        "  length=len(A)\n",
        "\n",
        "  for j in range(1,length):\n",
        "    key=A[j]\n",
        "    i=j-1\n",
        "    while i>-1 and A[i]>key:\n",
        "      A[i+1]=A[i]\n",
        "      i=i-1\n",
        "    A[i+1]=key\n",
        "\n",
        "insertionSort(A)\n",
        "print(\"InsertionSort: \",A)\n",
        "\n",
        "  # selection sort\n",
        "def selectionSort(A):  \n",
        "  for i in range(len(A)): \n",
        "\n",
        "    min_idx = i \n",
        "    for j in range(i+1, len(A)): \n",
        "        if A[min_idx] > A[j]: \n",
        "            min_idx = j \n",
        "         \n",
        "    A[i], A[min_idx] = A[min_idx], A[i] \n",
        "\n",
        "selectionSort(A)\n",
        "print(\"SelectionSort: \",A)\n",
        "\n",
        "\n",
        "    # bubble sort\n",
        "def bubbleSort(A):\n",
        "    n = len(A)\n",
        " \n",
        "\n",
        "    for i in range(n):\n",
        " \n",
        "       \n",
        "        for j in range(0, n-i-1):\n",
        " \n",
        "            if A[j] > A[j+1] :\n",
        "                A[j], A[j+1] = A[j+1], A[j]\n",
        " \n",
        "bubbleSort(A)\n",
        "print(\"BubbleSort: \",A)\n",
        "\n",
        "\n",
        "  # merge sort\n",
        "def mergeSort(A): \n",
        "\tif len(A) >1: \n",
        "\t\tmid = len(A)//2 \n",
        "\t\tL = A[:mid] \n",
        "\t\tR = A[mid:] \n",
        "\n",
        "\t\tmergeSort(L)\n",
        "\t\tmergeSort(R) \n",
        "\t\ti = j = k = 0\n",
        "\t\t\n",
        "\t\twhile i < len(L) and j < len(R): \n",
        "\t\t\tif L[i] < R[j]: \n",
        "\t\t\t\tA[k] = L[i] \n",
        "\t\t\t\ti+=1\n",
        "\t\t\telse: \n",
        "\t\t\t\tA[k] = R[j] \n",
        "\t\t\t\tj+=1\n",
        "\t\t\tk+=1\n",
        "\t\t\n",
        "\t\t\n",
        "\t\twhile i < len(L): \n",
        "\t\t\tA[k] = L[i] \n",
        "\t\t\ti+=1\n",
        "\t\t\tk+=1\n",
        "\t\t\n",
        "\t\twhile j < len(R): \n",
        "\t\t\tA[k] = R[j] \n",
        "\t\t\tj+=1\n",
        "\t\t\tk+=1\n",
        "\n",
        "mergeSort(A)\n",
        "print(\"MergeSort: \",A)\n",
        "\n",
        "  # counting sort\n",
        "def countingsort(array1, max_val):\n",
        "    m = max_val + 1\n",
        "    count = [0] * m                \n",
        "    \n",
        "    for a in array1:\n",
        "        count[a] += 1             \n",
        "    i = 0\n",
        "    for a in range(m):            \n",
        "        for c in range(count[a]):  \n",
        "            array1[i] = a\n",
        "            i += 1\n",
        "    return array1\n",
        "\n",
        "\n",
        "countingsort(A,56)\n",
        "print(\"CountingSort: \",A)"
      ],
      "execution_count": 2,
      "outputs": [
        {
          "output_type": "stream",
          "text": [
            "InsertionSort:  [4, 7, 9, 20, 23, 32, 34, 56]\n",
            "SelectionSort:  [4, 7, 9, 20, 23, 32, 34, 56]\n",
            "BubbleSort:  [4, 7, 9, 20, 23, 32, 34, 56]\n",
            "MergeSort:  [4, 7, 9, 20, 23, 32, 34, 56]\n",
            "CountingSort:  [4, 7, 9, 20, 23, 32, 34, 56]\n"
          ],
          "name": "stdout"
        }
      ]
    }
  ]
}